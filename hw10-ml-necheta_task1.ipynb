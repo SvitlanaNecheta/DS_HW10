{
 "cells": [
  {
   "cell_type": "code",
   "execution_count": 10,
   "metadata": {
    "_cell_guid": "b1076dfc-b9ad-4769-8c92-a6c4dae69d19",
    "_uuid": "8f2839f25d086af736a60e9eeb907d3b93b6e0e5",
    "execution": {
     "iopub.execute_input": "2025-09-05T07:12:35.158006Z",
     "iopub.status.busy": "2025-09-05T07:12:35.157578Z",
     "iopub.status.idle": "2025-09-05T07:12:35.211578Z",
     "shell.execute_reply": "2025-09-05T07:12:35.210409Z",
     "shell.execute_reply.started": "2025-09-05T07:12:35.157981Z"
    },
    "trusted": true
   },
   "outputs": [
    {
     "name": "stdout",
     "output_type": "stream",
     "text": [
      "/kaggle/input/movielens-100k-dataset/ml-100k/u.occupation\n",
      "/kaggle/input/movielens-100k-dataset/ml-100k/u1.base\n",
      "/kaggle/input/movielens-100k-dataset/ml-100k/u.info\n",
      "/kaggle/input/movielens-100k-dataset/ml-100k/u4.test\n",
      "/kaggle/input/movielens-100k-dataset/ml-100k/u.item\n",
      "/kaggle/input/movielens-100k-dataset/ml-100k/README\n",
      "/kaggle/input/movielens-100k-dataset/ml-100k/u1.test\n",
      "/kaggle/input/movielens-100k-dataset/ml-100k/ua.test\n",
      "/kaggle/input/movielens-100k-dataset/ml-100k/u.data\n",
      "/kaggle/input/movielens-100k-dataset/ml-100k/u5.test\n",
      "/kaggle/input/movielens-100k-dataset/ml-100k/mku.sh\n",
      "/kaggle/input/movielens-100k-dataset/ml-100k/u5.base\n",
      "/kaggle/input/movielens-100k-dataset/ml-100k/u.user\n",
      "/kaggle/input/movielens-100k-dataset/ml-100k/ub.base\n",
      "/kaggle/input/movielens-100k-dataset/ml-100k/u4.base\n",
      "/kaggle/input/movielens-100k-dataset/ml-100k/u2.test\n",
      "/kaggle/input/movielens-100k-dataset/ml-100k/ua.base\n",
      "/kaggle/input/movielens-100k-dataset/ml-100k/u3.test\n",
      "/kaggle/input/movielens-100k-dataset/ml-100k/u.genre\n",
      "/kaggle/input/movielens-100k-dataset/ml-100k/allbut.pl\n",
      "/kaggle/input/movielens-100k-dataset/ml-100k/u3.base\n",
      "/kaggle/input/movielens-100k-dataset/ml-100k/u2.base\n",
      "/kaggle/input/movielens-100k-dataset/ml-100k/ub.test\n"
     ]
    }
   ],
   "source": [
    "# This Python 3 environment comes with many helpful analytics libraries installed\n",
    "# It is defined by the kaggle/python Docker image: https://github.com/kaggle/docker-python\n",
    "# For example, here's several helpful packages to load\n",
    "\n",
    "import numpy as np # linear algebra\n",
    "import pandas as pd # data processing, CSV file I/O (e.g. pd.read_csv)\n",
    "\n",
    "# Input data files are available in the read-only \"../input/\" directory\n",
    "# For example, running this (by clicking run or pressing Shift+Enter) will list all files under the input directory\n",
    "\n",
    "import os\n",
    "for dirname, _, filenames in os.walk('/kaggle/input'):\n",
    "    for filename in filenames:\n",
    "        print(os.path.join(dirname, filename))\n",
    "\n",
    "# You can write up to 20GB to the current directory (/kaggle/working/) that gets preserved as output when you create a version using \"Save & Run All\" \n",
    "# You can also write temporary files to /kaggle/temp/, but they won't be saved outside of the current session"
   ]
  },
  {
   "cell_type": "code",
   "execution_count": 11,
   "metadata": {
    "execution": {
     "iopub.execute_input": "2025-09-05T07:12:35.213918Z",
     "iopub.status.busy": "2025-09-05T07:12:35.213589Z",
     "iopub.status.idle": "2025-09-05T07:12:36.108092Z",
     "shell.execute_reply": "2025-09-05T07:12:36.106900Z",
     "shell.execute_reply.started": "2025-09-05T07:12:35.213891Z"
    },
    "trusted": true
   },
   "outputs": [
    {
     "name": "stdout",
     "output_type": "stream",
     "text": [
      "Path to dataset files: /kaggle/input/movielens-100k-dataset\n",
      "Чи існує файл?: True\n",
      "<surprise.reader.Reader object at 0x7f245961e010>\n",
      "Дані успішно завантажено!\n"
     ]
    }
   ],
   "source": [
    "from surprise import Dataset, Reader, SVD,NMF,SVDpp\n",
    "from surprise.model_selection import cross_validate, GridSearchCV\n",
    "import pandas as pd\n",
    "import os\n",
    "import random\n",
    "import kagglehub\n",
    "#data=Dataset.load_builtin('ml-100k')\n",
    "# Вантажу набір даних за допомогою kagglehub, бо не вдалося через surprise\n",
    "path = kagglehub.dataset_download(\"prajitdatta/movielens-100k-dataset\")\n",
    "\n",
    "file_path = os.path.join(path, \"ml-100k/u.data\")\n",
    "#Перевіряю, чи існує файл\n",
    "print(\"Path to dataset files:\", path)\n",
    "print(\"Чи існує файл?:\", os.path.exists(file_path))\n",
    "\n",
    "# Вантажимо дані\n",
    "if os.path.exists(file_path):\n",
    "    # Формат: user item rating timestamp, розділювач табуляція\n",
    "    reader = Reader(line_format='user item rating timestamp', sep='\\t')\n",
    "    print(reader)\n",
    "    # дані з завантаженого файлу\n",
    "    data = Dataset.load_from_file(file_path, reader=reader)\n",
    "    #Отримання raw ratings\n",
    "    raw_ratings=data.raw_ratings\n",
    "    print(\"Дані успішно завантажено!\")\n",
    "else:\n",
    "    print(\"Помилка: Файл не знайдено за шляхом:\", file_path)"
   ]
  },
  {
   "cell_type": "code",
   "execution_count": 12,
   "metadata": {
    "execution": {
     "iopub.execute_input": "2025-09-05T07:12:36.109469Z",
     "iopub.status.busy": "2025-09-05T07:12:36.109020Z",
     "iopub.status.idle": "2025-09-05T07:12:36.206267Z",
     "shell.execute_reply": "2025-09-05T07:12:36.204961Z",
     "shell.execute_reply.started": "2025-09-05T07:12:36.109446Z"
    },
    "trusted": true
   },
   "outputs": [
    {
     "data": {
      "text/html": [
       "<div>\n",
       "<style scoped>\n",
       "    .dataframe tbody tr th:only-of-type {\n",
       "        vertical-align: middle;\n",
       "    }\n",
       "\n",
       "    .dataframe tbody tr th {\n",
       "        vertical-align: top;\n",
       "    }\n",
       "\n",
       "    .dataframe thead th {\n",
       "        text-align: right;\n",
       "    }\n",
       "</style>\n",
       "<table border=\"1\" class=\"dataframe\">\n",
       "  <thead>\n",
       "    <tr style=\"text-align: right;\">\n",
       "      <th></th>\n",
       "      <th>user</th>\n",
       "      <th>item</th>\n",
       "      <th>rating</th>\n",
       "      <th>timestamp</th>\n",
       "    </tr>\n",
       "  </thead>\n",
       "  <tbody>\n",
       "    <tr>\n",
       "      <th>0</th>\n",
       "      <td>196</td>\n",
       "      <td>242</td>\n",
       "      <td>3.0</td>\n",
       "      <td>881250949</td>\n",
       "    </tr>\n",
       "    <tr>\n",
       "      <th>1</th>\n",
       "      <td>186</td>\n",
       "      <td>302</td>\n",
       "      <td>3.0</td>\n",
       "      <td>891717742</td>\n",
       "    </tr>\n",
       "    <tr>\n",
       "      <th>2</th>\n",
       "      <td>22</td>\n",
       "      <td>377</td>\n",
       "      <td>1.0</td>\n",
       "      <td>878887116</td>\n",
       "    </tr>\n",
       "    <tr>\n",
       "      <th>3</th>\n",
       "      <td>244</td>\n",
       "      <td>51</td>\n",
       "      <td>2.0</td>\n",
       "      <td>880606923</td>\n",
       "    </tr>\n",
       "    <tr>\n",
       "      <th>4</th>\n",
       "      <td>166</td>\n",
       "      <td>346</td>\n",
       "      <td>1.0</td>\n",
       "      <td>886397596</td>\n",
       "    </tr>\n",
       "  </tbody>\n",
       "</table>\n",
       "</div>"
      ],
      "text/plain": [
       "  user item  rating  timestamp\n",
       "0  196  242     3.0  881250949\n",
       "1  186  302     3.0  891717742\n",
       "2   22  377     1.0  878887116\n",
       "3  244   51     2.0  880606923\n",
       "4  166  346     1.0  886397596"
      ]
     },
     "execution_count": 12,
     "metadata": {},
     "output_type": "execute_result"
    }
   ],
   "source": [
    "#Вивантаження в форматі pd DataFrame для перегляду\n",
    "df=pd.DataFrame(raw_ratings,columns=['user','item','rating','timestamp'])\n",
    "df.head()"
   ]
  },
  {
   "cell_type": "code",
   "execution_count": 13,
   "metadata": {
    "execution": {
     "iopub.execute_input": "2025-09-05T07:12:36.209434Z",
     "iopub.status.busy": "2025-09-05T07:12:36.208863Z",
     "iopub.status.idle": "2025-09-05T07:14:30.818625Z",
     "shell.execute_reply": "2025-09-05T07:14:30.817510Z",
     "shell.execute_reply.started": "2025-09-05T07:12:36.209405Z"
    },
    "trusted": true
   },
   "outputs": [
    {
     "name": "stdout",
     "output_type": "stream",
     "text": [
      "Best RMSE score:  0.9237274700786214\n",
      "Best MAE score:  0.7299388038622118\n",
      "Evaluating RMSE, MAE of algorithm SVD on 3 split(s).\n",
      "\n",
      "                  Fold 1  Fold 2  Fold 3  Mean    Std     \n",
      "RMSE (testset)    0.9166  0.9256  0.9293  0.9239  0.0054  \n",
      "MAE (testset)     0.7258  0.7327  0.7345  0.7310  0.0038  \n",
      "Fit time          1.29    1.31    1.28    1.30    0.01    \n",
      "Test time         0.19    0.30    0.28    0.26    0.05    \n",
      "\n",
      "Середні результати алгоритм SVD:\n",
      "RMSE: 0.9238513281120998\n",
      "MAE : 0.7310172305276831\n"
     ]
    }
   ],
   "source": [
    "#Алгоритм SVD\n",
    "#Визначення сітки параметрів \n",
    "param_grid={\n",
    "    'n_epochs':[12,20,24],\n",
    "    'lr_all':[0.01,0.03,0.05],\n",
    "    'reg_all':[0.02,0.1,0.2]\n",
    "}\n",
    "   \n",
    "# Використання GridSearchCV у підборі параметрів\n",
    "gs=GridSearchCV(SVD, param_grid,measures=['rmse','mae'],cv=3)\n",
    "gs.fit(data)\n",
    "#Виводим найкращій результат\n",
    "print(\"Best RMSE score: \",gs.best_score['rmse'])\n",
    "print(\"Best MAE score: \",gs.best_score['mae'])\n",
    "#Ініціалізація алгоритму\n",
    "algo=SVD(n_epochs=gs.best_params['rmse']['n_epochs'],lr_all=gs.best_params['rmse']['lr_all'],reg_all=gs.best_params['rmse']['reg_all'])\n",
    "# Крос-валідація\n",
    "results = cross_validate(algo, data, measures=[\"RMSE\", \"MAE\"], cv=3, verbose=True)\n",
    "# Обчислення середніх результатів\n",
    "mean_res_rmse_svd = results[\"test_rmse\"].mean()\n",
    "mean_res_mae_svd = results[\"test_mae\"].mean()\n",
    "\n",
    "# Вивід\n",
    "print(\"\\nСередні результати алгоритм SVD:\")\n",
    "print(\"RMSE:\", mean_res_rmse_svd)\n",
    "print(\"MAE :\", mean_res_mae_svd)"
   ]
  },
  {
   "cell_type": "code",
   "execution_count": 14,
   "metadata": {
    "execution": {
     "iopub.execute_input": "2025-09-05T07:14:30.820726Z",
     "iopub.status.busy": "2025-09-05T07:14:30.820360Z",
     "iopub.status.idle": "2025-09-05T07:40:55.668464Z",
     "shell.execute_reply": "2025-09-05T07:40:55.667386Z",
     "shell.execute_reply.started": "2025-09-05T07:14:30.820691Z"
    },
    "trusted": true
   },
   "outputs": [
    {
     "name": "stdout",
     "output_type": "stream",
     "text": [
      "Best RMSE score:  0.9446782259349408\n",
      "Best MAE score:  0.748607145866688\n",
      "Evaluating RMSE, MAE of algorithm NMF on 3 split(s).\n",
      "\n",
      "                  Fold 1  Fold 2  Fold 3  Mean    Std     \n",
      "RMSE (testset)    0.9519  0.9433  0.9453  0.9468  0.0037  \n",
      "MAE (testset)     0.7548  0.7474  0.7480  0.7501  0.0033  \n",
      "Fit time          3.35    3.41    3.42    3.39    0.03    \n",
      "Test time         0.16    0.27    0.26    0.23    0.05    \n",
      "\n",
      "Середні результати алгоритм NMF:\n",
      "RMSE: 0.9468120832771781\n",
      "MAE : 0.7500514064368714\n"
     ]
    }
   ],
   "source": [
    "#Алгоритм NMF\n",
    "#Визначення сітки параметрів \n",
    "param_grid_nmf = {\n",
    "    'n_epochs': [20, 50, 100],\n",
    "    'lr_bu': [0.002, 0.005, 0.01],\n",
    "    'lr_bi': [0.002, 0.005, 0.01],\n",
    "    'reg_pu': [0.02, 0.05, 0.1],\n",
    "    'reg_qi' : [0.02, 0.05, 0.1]\n",
    "}   \n",
    "# Використання GridSearchCV у підборі параметрів\n",
    "gs=GridSearchCV(NMF, param_grid_nmf,measures=['rmse','mae'],cv=3)\n",
    "gs.fit(data)\n",
    "#Виводим найкращій результат\n",
    "print(\"Best RMSE score: \",gs.best_score['rmse'])\n",
    "print(\"Best MAE score: \",gs.best_score['mae'])\n",
    "#Ініціалізація алгоритму\n",
    "algo_nmf=NMF(n_epochs=gs.best_params['rmse']['n_epochs'],lr_bu=gs.best_params['rmse']['lr_bu'],lr_bi=gs.best_params['rmse']['lr_bi'],reg_pu=gs.best_params['rmse']['reg_pu'],reg_qi=gs.best_params['rmse']['reg_qi'])\n",
    "# Крос-валідація\n",
    "results = cross_validate(algo_nmf, data, measures=[\"RMSE\", \"MAE\"], cv=3, verbose=True)\n",
    "# Обчислення середніх результатів\n",
    "mean_res_rmse_nmf=results[\"test_rmse\"].mean()\n",
    "mean_res_mae_nmf=results[\"test_mae\"].mean()\n",
    "# Вивід\n",
    "print(\"\\nСередні результати алгоритм NMF:\")\n",
    "print(\"RMSE:\",mean_res_rmse_nmf)\n",
    "print(\"MAE :\",mean_res_mae_nmf)"
   ]
  },
  {
   "cell_type": "code",
   "execution_count": 15,
   "metadata": {
    "execution": {
     "iopub.execute_input": "2025-09-05T07:40:55.670054Z",
     "iopub.status.busy": "2025-09-05T07:40:55.669719Z",
     "iopub.status.idle": "2025-09-05T08:54:24.502263Z",
     "shell.execute_reply": "2025-09-05T08:54:24.501050Z",
     "shell.execute_reply.started": "2025-09-05T07:40:55.670027Z"
    },
    "trusted": true
   },
   "outputs": [
    {
     "name": "stdout",
     "output_type": "stream",
     "text": [
      "Best RMSE score:  0.9198613325374563\n",
      "Best MAE score:  0.7247513240795512\n",
      "Evaluating RMSE, MAE of algorithm SVDpp on 3 split(s).\n",
      "\n",
      "                  Fold 1  Fold 2  Fold 3  Mean    Std     \n",
      "RMSE (testset)    0.9238  0.9185  0.9191  0.9204  0.0023  \n",
      "MAE (testset)     0.7269  0.7251  0.7242  0.7254  0.0011  \n",
      "Fit time          78.90   79.22   79.60   79.24   0.28    \n",
      "Test time         5.74    5.71    5.63    5.70    0.05    \n",
      "\n",
      "Середні результати алгоритм SVDpp:\n",
      "RMSE: 0.9204498982866586\n",
      "MAE : 0.7253662883151718\n"
     ]
    }
   ],
   "source": [
    " #Алгоритм SVD++\n",
    "#Визначення сітки параметрів \n",
    "param_grid_svdpp = {\n",
    "    'n_epochs': [20, 50, 100],\n",
    "    'lr_all': [0.002, 0.005, 0.01],\n",
    "    'reg_all': [0.02, 0.05, 0.1]\n",
    "}\n",
    "   \n",
    "# Використання GridSearchCV у підборі параметрів\n",
    "gs=GridSearchCV(SVDpp, param_grid_svdpp,measures=['rmse','mae'],cv=3)\n",
    "gs.fit(data)\n",
    "#Виводим найкращій результат\n",
    "print(\"Best RMSE score: \",gs.best_score['rmse'])\n",
    "print(\"Best MAE score: \",gs.best_score['mae'])\n",
    "#Ініціалізація алгоритму\n",
    "algo_svdpp=SVDpp(n_epochs=gs.best_params['rmse']['n_epochs'],lr_all=gs.best_params['rmse']['lr_all'],reg_all=gs.best_params['rmse']['reg_all'])\n",
    "# Крос-валідація\n",
    "results = cross_validate(algo_svdpp, data, measures=[\"RMSE\", \"MAE\"], cv=3, verbose=True)\n",
    "# Обчислення середніх результатів\n",
    "mean_res_rmse_svdpp=results[\"test_rmse\"].mean()\n",
    "mean_res_mae_svdpp=results[\"test_mae\"].mean()\n",
    "# Вивід\n",
    "print(\"\\nСередні результати алгоритм SVDpp:\")\n",
    "print(\"RMSE:\",mean_res_rmse_svdpp)\n",
    "print(\"MAE :\",mean_res_mae_svdpp) "
   ]
  },
  {
   "cell_type": "code",
   "execution_count": 19,
   "metadata": {
    "execution": {
     "iopub.execute_input": "2025-09-05T09:05:36.214871Z",
     "iopub.status.busy": "2025-09-05T09:05:36.214543Z",
     "iopub.status.idle": "2025-09-05T09:05:36.225105Z",
     "shell.execute_reply": "2025-09-05T09:05:36.223772Z",
     "shell.execute_reply.started": "2025-09-05T09:05:36.214847Z"
    },
    "trusted": true
   },
   "outputs": [
    {
     "name": "stdout",
     "output_type": "stream",
     "text": [
      "  Algorithm      RMSE       MAE\n",
      "0       SVD  0.923851  0.731017\n",
      "1       NMF  0.946812  0.750051\n",
      "2     SVD++  0.920450  0.725366\n",
      "\n",
      "Найкращий алгоритм, який має найменшу середню похибку:\n",
      "RMSE: SVD++\n",
      "MAE : SVD++\n"
     ]
    }
   ],
   "source": [
    "#Порівняння результатів використання алгоритмів\n",
    "results_table = pd.DataFrame([\n",
    "    {\"Algorithm\": \"SVD\",   \"RMSE\": mean_res_rmse_svd,   \"MAE\": mean_res_mae_svd},\n",
    "    {\"Algorithm\": \"NMF\",   \"RMSE\": mean_res_rmse_nmf,   \"MAE\": mean_res_mae_nmf},\n",
    "    {\"Algorithm\": \"SVD++\", \"RMSE\": mean_res_rmse_svdpp, \"MAE\": mean_res_mae_svdpp}\n",
    "])\n",
    "\n",
    "print(results_table)\n",
    "\n",
    "print(\"\\nНайкращий алгоритм, який має найменшу середню похибку:\")\n",
    "print(\"RMSE:\", results_table.loc[results_table[\"RMSE\"].idxmin(), \"Algorithm\"])\n",
    "print(\"MAE :\", results_table.loc[results_table[\"MAE\"].idxmin(), \"Algorithm\"])\n"
   ]
  },
  {
   "cell_type": "code",
   "execution_count": null,
   "metadata": {
    "trusted": true
   },
   "outputs": [],
   "source": []
  }
 ],
 "metadata": {
  "kaggle": {
   "accelerator": "none",
   "dataSources": [
    {
     "datasetId": 626,
     "isSourceIdPinned": false,
     "sourceId": 1187,
     "sourceType": "datasetVersion"
    }
   ],
   "isGpuEnabled": false,
   "isInternetEnabled": false,
   "language": "python",
   "sourceType": "notebook"
  },
  "kernelspec": {
   "display_name": "Python 3",
   "language": "python",
   "name": "python3"
  },
  "language_info": {
   "codemirror_mode": {
    "name": "ipython",
    "version": 3
   },
   "file_extension": ".py",
   "mimetype": "text/x-python",
   "name": "python",
   "nbconvert_exporter": "python",
   "pygments_lexer": "ipython3",
   "version": "3.11.13"
  }
 },
 "nbformat": 4,
 "nbformat_minor": 4
}
